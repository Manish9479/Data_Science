{
 "cells": [
  {
   "cell_type": "markdown",
   "id": "0f44f8c4-b815-4f97-bacd-b666a1c43997",
   "metadata": {},
   "source": [
    "Q1. Create one variable containing following type of data:\n",
    "(i) string\n",
    "(ii) list\n",
    "(iii) float\n",
    "(iv) tuple"
   ]
  },
  {
   "cell_type": "code",
   "execution_count": 1,
   "id": "12de9c3e-2d9d-41bc-b682-fe8b89401d94",
   "metadata": {},
   "outputs": [],
   "source": [
    "a1 = 'Basic String Ex'\n",
    "l1 = [4,5,'Ram',56]\n",
    "f1 = 0.52\n",
    "t1 = ('ram')"
   ]
  },
  {
   "cell_type": "code",
   "execution_count": 2,
   "id": "3f9661dd-540b-4773-b2cd-9efe080f664c",
   "metadata": {},
   "outputs": [
    {
     "name": "stdout",
     "output_type": "stream",
     "text": [
      "<class 'str'>\n",
      "<class 'list'>\n",
      "<class 'float'>\n",
      "<class 'str'>\n"
     ]
    }
   ],
   "source": [
    "x1 = [a1,l1,f1,t1]\n",
    "\n",
    "for i in x1:\n",
    "    print(type(i))"
   ]
  },
  {
   "cell_type": "markdown",
   "id": "e2ce0d6b-5be0-4680-9af1-6dcdd054d5f1",
   "metadata": {},
   "source": [
    "Q2. Given are some following variables containing data:\n",
    "(i) var1 = ‘ ‘\n",
    "(ii) var2 = ‘[ DS , ML , Python]’\n",
    "(iii) var3 = [ ‘DS’ , ’ML’ , ‘Python’ ]\n",
    "(iv) var4 = 1"
   ]
  },
  {
   "cell_type": "code",
   "execution_count": 3,
   "id": "8c246240-21c5-42eb-b201-8e08e729e199",
   "metadata": {},
   "outputs": [],
   "source": [
    "var1 = ' '\n",
    "var2 = '[ DS , ML , Python]'\n",
    "var3 = [ 'DS' , 'ML' , 'Python' ]\n",
    "var4 = 1"
   ]
  },
  {
   "cell_type": "code",
   "execution_count": 4,
   "id": "5ce30120-b830-430f-8610-d876f7ffaf80",
   "metadata": {},
   "outputs": [
    {
     "name": "stdout",
     "output_type": "stream",
     "text": [
      "<class 'str'>\n",
      "<class 'str'>\n",
      "<class 'list'>\n",
      "<class 'int'>\n"
     ]
    }
   ],
   "source": [
    "var  = [var1,var2,var3,var4]\n",
    "\n",
    "for i in var:\n",
    "    print(type(i))\n",
    "    "
   ]
  },
  {
   "cell_type": "markdown",
   "id": "2465161c-0a9c-4b7b-9d27-500cba9f4435",
   "metadata": {},
   "source": [
    "Q3. Explain the use of the following operators using an example:\n",
    "(i) /\n",
    "(ii) %\n",
    "(iii) //\n",
    "(iv) **"
   ]
  },
  {
   "cell_type": "code",
   "execution_count": 5,
   "id": "fa992435-28ec-445b-abf0-04dec16c52b8",
   "metadata": {},
   "outputs": [],
   "source": [
    "a = 10\n",
    "b= 2"
   ]
  },
  {
   "cell_type": "code",
   "execution_count": 6,
   "id": "30b17418-4351-4be5-a7c4-e9269830accb",
   "metadata": {},
   "outputs": [],
   "source": [
    "c = a/b\n",
    "d = a%b\n",
    "e = a//b\n",
    "f = a**b"
   ]
  },
  {
   "cell_type": "code",
   "execution_count": 7,
   "id": "992174a1-9ee7-447c-ae81-d0dc5a965279",
   "metadata": {},
   "outputs": [
    {
     "name": "stdout",
     "output_type": "stream",
     "text": [
      "[5.0, 0, 5, 100]\n"
     ]
    }
   ],
   "source": [
    "print([c,d,e,f])"
   ]
  },
  {
   "cell_type": "markdown",
   "id": "86085298-75c1-4acf-91b8-4c3f1fc1824b",
   "metadata": {},
   "source": [
    "or"
   ]
  },
  {
   "cell_type": "code",
   "execution_count": 8,
   "id": "378620a3-4827-479f-a20e-91991f5ed037",
   "metadata": {},
   "outputs": [],
   "source": [
    "g = 10/2\n",
    "h = 25%4\n",
    "i = 85//6\n",
    "j = 3**6"
   ]
  },
  {
   "cell_type": "code",
   "execution_count": 9,
   "id": "fcef6bf4-fc6f-4801-a9bf-b22373cca560",
   "metadata": {},
   "outputs": [
    {
     "name": "stdout",
     "output_type": "stream",
     "text": [
      "[5.0, 1, 14, 729]\n"
     ]
    }
   ],
   "source": [
    "print([g,h,i,j])"
   ]
  },
  {
   "cell_type": "markdown",
   "id": "247fb460-d4c1-48a7-a6e6-49d182fe5c55",
   "metadata": {},
   "source": [
    "Q4. Create a list of length 10 of your choice containing multiple types of data. Using for loop print the\n",
    "element and its data type."
   ]
  },
  {
   "cell_type": "code",
   "execution_count": 10,
   "id": "762fe008-84ed-4b4e-99ea-82ffbf9aadd2",
   "metadata": {},
   "outputs": [
    {
     "name": "stdout",
     "output_type": "stream",
     "text": [
      "Element: 2, Data Type: int\n",
      "Element: Ram, Data Type: str\n",
      "Element: 5.154, Data Type: float\n",
      "Element: True, Data Type: bool\n",
      "Element: [1, 2, 3], Data Type: list\n",
      "Element: {'a1': 1, 'b1': 2}, Data Type: dict\n",
      "Element: None, Data Type: NoneType\n",
      "Element: (11, 22), Data Type: tuple\n"
     ]
    }
   ],
   "source": [
    "my_list = [2, \"Ram\", 5.154, True, [1, 2, 3], {'a1': 1, 'b1': 2}, None, (11, 22)]\n",
    "\n",
    "for item in my_list:\n",
    "    data_type = type(item).__name__\n",
    "    print(f\"Element: {item}, Data Type: {data_type}\")\n"
   ]
  },
  {
   "cell_type": "markdown",
   "id": "f8660f48-054e-494a-a27d-52b360954838",
   "metadata": {},
   "source": [
    "Q5. Using a while loop, verify if the number A is purely divisible by number B and if so then how many\n",
    "times it can be divisible."
   ]
  },
  {
   "cell_type": "code",
   "execution_count": 18,
   "id": "091d6bad-925b-4d0d-8698-1b2d8fd1648b",
   "metadata": {},
   "outputs": [
    {
     "name": "stdin",
     "output_type": "stream",
     "text": [
      "Enter the value of A:  40\n",
      "Enter the value of B:  10\n"
     ]
    },
    {
     "name": "stdout",
     "output_type": "stream",
     "text": [
      "40 is divisible by 10 and can be divided 0 times.\n"
     ]
    }
   ],
   "source": [
    "A = int(input(\"Enter the value of A: \"))\n",
    "b = int(input(\"Enter the value of B: \"))\n",
    "\n",
    "count = 0\n",
    "while a >= b:\n",
    "    a = a - b  \n",
    "    count += 1 \n",
    "\n",
    "if a == 0:\n",
    "    print(f\"{b} is divisible by {b} and can be divided {count} times.\")\n",
    "else:\n",
    "    print(f\"{a} is not divisible by {b}.\")\n",
    "\n"
   ]
  },
  {
   "cell_type": "markdown",
   "id": "708e836a-96c7-48f7-b740-89db378aaa18",
   "metadata": {},
   "source": [
    "Q6. Create a list containing 25 int type data. Using for loop and if-else condition print if the element is\n",
    "divisible by 3 or not."
   ]
  },
  {
   "cell_type": "code",
   "execution_count": 12,
   "id": "1df74b03-6e77-46f5-99db-9acd630d6fb8",
   "metadata": {},
   "outputs": [
    {
     "name": "stdout",
     "output_type": "stream",
     "text": [
      "12 is divisible by 3.\n",
      "7 is not divisible by 3.\n",
      "9 is divisible by 3.\n",
      "21 is divisible by 3.\n",
      "45 is divisible by 3.\n",
      "8 is not divisible by 3.\n",
      "36 is divisible by 3.\n",
      "17 is not divisible by 3.\n",
      "27 is divisible by 3.\n",
      "30 is divisible by 3.\n",
      "5 is not divisible by 3.\n",
      "16 is not divisible by 3.\n",
      "33 is divisible by 3.\n",
      "22 is not divisible by 3.\n",
      "18 is divisible by 3.\n",
      "42 is divisible by 3.\n",
      "11 is not divisible by 3.\n",
      "20 is not divisible by 3.\n",
      "39 is divisible by 3.\n",
      "4 is not divisible by 3.\n",
      "13 is not divisible by 3.\n",
      "15 is divisible by 3.\n",
      "24 is divisible by 3.\n",
      "31 is not divisible by 3.\n",
      "6 is divisible by 3.\n"
     ]
    }
   ],
   "source": [
    "int_list = [12, 7, 9, 21, 45, 8, 36, 17, 27, 30,5, 16, 33, 22, 18, 42, 11, 20, 39, 4,13, 15, 24, 31, 6]\n",
    "\n",
    "for i in int_list:\n",
    "    if i % 3 == 0:\n",
    "        print(f\"{i} is divisible by 3.\")\n",
    "    else:\n",
    "        print(f\"{i} is not divisible by 3.\")\n"
   ]
  },
  {
   "cell_type": "markdown",
   "id": "dc4f8f83-b7ea-48b8-8c3d-180f75002024",
   "metadata": {},
   "source": [
    "Q7. What do you understand about mutable and immutable data types? Give examples for both showing\n",
    "this property."
   ]
  },
  {
   "cell_type": "markdown",
   "id": "902013f9-3b2e-43ba-b8a3-c932dc22de85",
   "metadata": {},
   "source": [
    "Ans: Mutable data types are objects that can be modified after creation ex lists and dictionaries. Immutable data types, on the other hand, cannot be changed once they are created ex include integers, floats, strings, and tuples"
   ]
  },
  {
   "cell_type": "code",
   "execution_count": 13,
   "id": "01d72822-3b88-43da-b3f5-3744ffaa62a4",
   "metadata": {},
   "outputs": [
    {
     "name": "stdout",
     "output_type": "stream",
     "text": [
      "Original list: [1, 2, 3]\n",
      "Modified list: [10, 3, 4]\n"
     ]
    }
   ],
   "source": [
    "mutable_list = [1, 2, 3]\n",
    "print(\"Original list:\", mutable_list)\n",
    "\n",
    "mutable_list[0] = 10  \n",
    "mutable_list.append(4) \n",
    "mutable_list.remove(2)\n",
    "\n",
    "print(\"Modified list:\", mutable_list)\n"
   ]
  },
  {
   "cell_type": "code",
   "execution_count": 14,
   "id": "1fe51c40-33e4-4e09-9914-3eba98fc7396",
   "metadata": {},
   "outputs": [
    {
     "name": "stdout",
     "output_type": "stream",
     "text": [
      "Original string: Hello\n",
      "Modified string: Hello World\n"
     ]
    }
   ],
   "source": [
    "immutable_string = \"Hello\"\n",
    "print(\"Original string:\", immutable_string)\n",
    "\n",
    "new_string = immutable_string + \" World\"\n",
    "\n",
    "print(\"Modified string:\", new_string)\n"
   ]
  },
  {
   "cell_type": "code",
   "execution_count": null,
   "id": "96b00110-bdc0-4677-bbad-f5126e0e9972",
   "metadata": {},
   "outputs": [],
   "source": []
  }
 ],
 "metadata": {
  "kernelspec": {
   "display_name": "Python 3 (ipykernel)",
   "language": "python",
   "name": "python3"
  },
  "language_info": {
   "codemirror_mode": {
    "name": "ipython",
    "version": 3
   },
   "file_extension": ".py",
   "mimetype": "text/x-python",
   "name": "python",
   "nbconvert_exporter": "python",
   "pygments_lexer": "ipython3",
   "version": "3.10.8"
  }
 },
 "nbformat": 4,
 "nbformat_minor": 5
}
